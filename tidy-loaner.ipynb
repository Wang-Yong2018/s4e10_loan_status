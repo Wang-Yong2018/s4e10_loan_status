{
 "cells": [
  {
   "cell_type": "markdown",
   "id": "05bbeff1",
   "metadata": {
    "execution": {
     "iopub.execute_input": "2024-10-05T17:04:32.741638Z",
     "iopub.status.busy": "2024-10-05T17:04:32.739662Z",
     "iopub.status.idle": "2024-10-05T17:04:32.755594Z"
    },
    "papermill": {
     "duration": 0.00533,
     "end_time": "2024-10-08T19:56:50.213163",
     "exception": false,
     "start_time": "2024-10-08T19:56:50.207833",
     "status": "completed"
    },
    "tags": []
   },
   "source": [
    "# Tidy loaneR"
   ]
  },
  {
   "cell_type": "markdown",
   "id": "a2d507cd",
   "metadata": {
    "papermill": {
     "duration": 0.004438,
     "end_time": "2024-10-08T19:56:50.222382",
     "exception": false,
     "start_time": "2024-10-08T19:56:50.217944",
     "status": "completed"
    },
    "tags": []
   },
   "source": [
    "I haven't used R for a long and decided to write a short script which is based on the idea of [tidymodels](https://www.tidymodels.org/). Usually I prefer more low-level coding, but tidy approach seems quite nice."
   ]
  },
  {
   "cell_type": "code",
   "execution_count": 1,
   "id": "94e50734",
   "metadata": {
    "_execution_state": "idle",
    "_kg_hide-output": true,
    "_uuid": "051d70d956493feee0c6d64651c6a088724dca2a",
    "execution": {
     "iopub.execute_input": "2024-10-08T19:56:50.235119Z",
     "iopub.status.busy": "2024-10-08T19:56:50.233104Z",
     "iopub.status.idle": "2024-10-08T19:56:54.089818Z",
     "shell.execute_reply": "2024-10-08T19:56:54.088004Z"
    },
    "papermill": {
     "duration": 3.865967,
     "end_time": "2024-10-08T19:56:54.092801",
     "exception": false,
     "start_time": "2024-10-08T19:56:50.226834",
     "status": "completed"
    },
    "tags": [],
    "vscode": {
     "languageId": "r"
    }
   },
   "outputs": [
    {
     "name": "stderr",
     "output_type": "stream",
     "text": [
      "── \u001b[1mAttaching core tidyverse packages\u001b[22m ──────────────────────── tidyverse 2.0.0 ──\n",
      "\u001b[32m✔\u001b[39m \u001b[34mdplyr    \u001b[39m 1.1.4     \u001b[32m✔\u001b[39m \u001b[34mreadr    \u001b[39m 2.1.5\n",
      "\u001b[32m✔\u001b[39m \u001b[34mforcats  \u001b[39m 1.0.0     \u001b[32m✔\u001b[39m \u001b[34mstringr  \u001b[39m 1.5.1\n",
      "\u001b[32m✔\u001b[39m \u001b[34mggplot2  \u001b[39m 3.5.1     \u001b[32m✔\u001b[39m \u001b[34mtibble   \u001b[39m 3.2.1\n",
      "\u001b[32m✔\u001b[39m \u001b[34mlubridate\u001b[39m 1.9.3     \u001b[32m✔\u001b[39m \u001b[34mtidyr    \u001b[39m 1.3.1\n",
      "\u001b[32m✔\u001b[39m \u001b[34mpurrr    \u001b[39m 1.0.2     \n",
      "── \u001b[1mConflicts\u001b[22m ────────────────────────────────────────── tidyverse_conflicts() ──\n",
      "\u001b[31m✖\u001b[39m \u001b[34mdplyr\u001b[39m::\u001b[32mfilter()\u001b[39m masks \u001b[34mstats\u001b[39m::filter()\n",
      "\u001b[31m✖\u001b[39m \u001b[34mdplyr\u001b[39m::\u001b[32mlag()\u001b[39m    masks \u001b[34mstats\u001b[39m::lag()\n",
      "\u001b[36mℹ\u001b[39m Use the conflicted package (\u001b[3m\u001b[34m<http://conflicted.r-lib.org/>\u001b[39m\u001b[23m) to force all conflicts to become errors\n",
      "\n",
      "Attaching package: 'yardstick'\n",
      "\n",
      "\n",
      "The following object is masked from 'package:readr':\n",
      "\n",
      "    spec\n",
      "\n",
      "\n",
      "\n",
      "Attaching package: 'recipes'\n",
      "\n",
      "\n",
      "The following object is masked from 'package:stringr':\n",
      "\n",
      "    fixed\n",
      "\n",
      "\n",
      "The following object is masked from 'package:stats':\n",
      "\n",
      "    step\n",
      "\n",
      "\n",
      "Loading required package: parsnip\n",
      "\n",
      "Loading required package: scales\n",
      "\n",
      "\n",
      "Attaching package: 'scales'\n",
      "\n",
      "\n",
      "The following object is masked from 'package:purrr':\n",
      "\n",
      "    discard\n",
      "\n",
      "\n",
      "The following object is masked from 'package:readr':\n",
      "\n",
      "    col_factor\n",
      "\n",
      "\n",
      "\n",
      "Attaching package: 'vip'\n",
      "\n",
      "\n",
      "The following object is masked from 'package:utils':\n",
      "\n",
      "    vi\n",
      "\n",
      "\n"
     ]
    }
   ],
   "source": [
    "library(tidyverse)\n",
    "library(workflows)\n",
    "library(yardstick)\n",
    "library(rsample)\n",
    "library(recipes)\n",
    "library(bonsai)\n",
    "library(dials)\n",
    "library(tune)\n",
    "library(vip)\n",
    "\n",
    "set.seed(0)"
   ]
  },
  {
   "cell_type": "markdown",
   "id": "6079ef99",
   "metadata": {
    "execution": {
     "iopub.execute_input": "2024-10-05T16:48:30.960356Z",
     "iopub.status.busy": "2024-10-05T16:48:30.92503Z",
     "iopub.status.idle": "2024-10-05T16:48:30.978476Z"
    },
    "papermill": {
     "duration": 0.005517,
     "end_time": "2024-10-08T19:56:54.104052",
     "exception": false,
     "start_time": "2024-10-08T19:56:54.098535",
     "status": "completed"
    },
    "tags": []
   },
   "source": [
    "## Loading and splitting"
   ]
  },
  {
   "cell_type": "code",
   "execution_count": 2,
   "id": "e5067a89",
   "metadata": {
    "_kg_hide-output": true,
    "execution": {
     "iopub.execute_input": "2024-10-08T19:56:54.155781Z",
     "iopub.status.busy": "2024-10-08T19:56:54.116999Z",
     "iopub.status.idle": "2024-10-08T19:56:54.669816Z",
     "shell.execute_reply": "2024-10-08T19:56:54.667934Z"
    },
    "papermill": {
     "duration": 0.562482,
     "end_time": "2024-10-08T19:56:54.672053",
     "exception": false,
     "start_time": "2024-10-08T19:56:54.109571",
     "status": "completed"
    },
    "tags": [],
    "vscode": {
     "languageId": "r"
    }
   },
   "outputs": [
    {
     "name": "stderr",
     "output_type": "stream",
     "text": [
      "\u001b[1mRows: \u001b[22m\u001b[34m58645\u001b[39m \u001b[1mColumns: \u001b[22m\u001b[34m13\u001b[39m\n",
      "\u001b[36m──\u001b[39m \u001b[1mColumn specification\u001b[22m \u001b[36m────────────────────────────────────────────────────────\u001b[39m\n",
      "\u001b[1mDelimiter:\u001b[22m \",\"\n",
      "\u001b[31mchr\u001b[39m (4): person_home_ownership, loan_intent, loan_grade, cb_person_default_o...\n",
      "\u001b[32mdbl\u001b[39m (9): id, person_age, person_income, person_emp_length, loan_amnt, loan_i...\n",
      "\n",
      "\u001b[36mℹ\u001b[39m Use `spec()` to retrieve the full column specification for this data.\n",
      "\u001b[36mℹ\u001b[39m Specify the column types or set `show_col_types = FALSE` to quiet this message.\n",
      "\u001b[1mRows: \u001b[22m\u001b[34m39098\u001b[39m \u001b[1mColumns: \u001b[22m\u001b[34m12\u001b[39m\n",
      "\u001b[36m──\u001b[39m \u001b[1mColumn specification\u001b[22m \u001b[36m────────────────────────────────────────────────────────\u001b[39m\n",
      "\u001b[1mDelimiter:\u001b[22m \",\"\n",
      "\u001b[31mchr\u001b[39m (4): person_home_ownership, loan_intent, loan_grade, cb_person_default_o...\n",
      "\u001b[32mdbl\u001b[39m (8): id, person_age, person_income, person_emp_length, loan_amnt, loan_i...\n",
      "\n",
      "\u001b[36mℹ\u001b[39m Use `spec()` to retrieve the full column specification for this data.\n",
      "\u001b[36mℹ\u001b[39m Specify the column types or set `show_col_types = FALSE` to quiet this message.\n"
     ]
    }
   ],
   "source": [
    "train <- read_csv(\"../input/playground-series-s4e10/train.csv\") |> \n",
    "    mutate(loan_status = as_factor(loan_status))\n",
    "test <- read_csv(\"../input/playground-series-s4e10/test.csv\") "
   ]
  },
  {
   "cell_type": "code",
   "execution_count": 3,
   "id": "110e2a7d",
   "metadata": {
    "execution": {
     "iopub.execute_input": "2024-10-08T19:56:54.687029Z",
     "iopub.status.busy": "2024-10-08T19:56:54.685516Z",
     "iopub.status.idle": "2024-10-08T19:56:54.716966Z",
     "shell.execute_reply": "2024-10-08T19:56:54.714857Z"
    },
    "papermill": {
     "duration": 0.04127,
     "end_time": "2024-10-08T19:56:54.719280",
     "exception": false,
     "start_time": "2024-10-08T19:56:54.678010",
     "status": "completed"
    },
    "tags": [],
    "vscode": {
     "languageId": "r"
    }
   },
   "outputs": [
    {
     "name": "stdout",
     "output_type": "stream",
     "text": [
      "Rows: 58,645\n",
      "Columns: 13\n",
      "$ id                         \u001b[3m\u001b[90m<dbl>\u001b[39m\u001b[23m 0, 1, 2, 3, 4, 5, 6, 7, 8, 9, 10, 11, 12, 1…\n",
      "$ person_age                 \u001b[3m\u001b[90m<dbl>\u001b[39m\u001b[23m 37, 22, 29, 30, 22, 27, 25, 21, 37, 35, 30,…\n",
      "$ person_income              \u001b[3m\u001b[90m<dbl>\u001b[39m\u001b[23m 35000, 56000, 28800, 70000, 60000, 45000, 4…\n",
      "$ person_home_ownership      \u001b[3m\u001b[90m<chr>\u001b[39m\u001b[23m \"RENT\", \"OWN\", \"OWN\", \"RENT\", \"RENT\", \"RENT…\n",
      "$ person_emp_length          \u001b[3m\u001b[90m<dbl>\u001b[39m\u001b[23m 0, 6, 8, 14, 2, 2, 9, 0, 11, 0, 5, 6, 1, 2,…\n",
      "$ loan_intent                \u001b[3m\u001b[90m<chr>\u001b[39m\u001b[23m \"EDUCATION\", \"MEDICAL\", \"PERSONAL\", \"VENTUR…\n",
      "$ loan_grade                 \u001b[3m\u001b[90m<chr>\u001b[39m\u001b[23m \"B\", \"C\", \"A\", \"B\", \"A\", \"A\", \"A\", \"C\", \"D\"…\n",
      "$ loan_amnt                  \u001b[3m\u001b[90m<dbl>\u001b[39m\u001b[23m 6000, 4000, 6000, 12000, 6000, 9000, 12000,…\n",
      "$ loan_int_rate              \u001b[3m\u001b[90m<dbl>\u001b[39m\u001b[23m 11.49, 13.35, 8.90, 11.11, 6.92, 8.94, 6.54…\n",
      "$ loan_percent_income        \u001b[3m\u001b[90m<dbl>\u001b[39m\u001b[23m 0.17, 0.07, 0.21, 0.17, 0.10, 0.20, 0.27, 0…\n",
      "$ cb_person_default_on_file  \u001b[3m\u001b[90m<chr>\u001b[39m\u001b[23m \"N\", \"N\", \"N\", \"N\", \"N\", \"N\", \"N\", \"Y\", \"Y\"…\n",
      "$ cb_person_cred_hist_length \u001b[3m\u001b[90m<dbl>\u001b[39m\u001b[23m 14, 2, 10, 5, 3, 5, 3, 3, 11, 6, 5, 2, 3, 9…\n",
      "$ loan_status                \u001b[3m\u001b[90m<fct>\u001b[39m\u001b[23m 0, 0, 0, 0, 0, 0, 0, 0, 0, 0, 0, 1, 0, 0, 0…\n"
     ]
    }
   ],
   "source": [
    "glimpse(train)"
   ]
  },
  {
   "cell_type": "code",
   "execution_count": 4,
   "id": "b9325e40",
   "metadata": {
    "execution": {
     "iopub.execute_input": "2024-10-08T19:56:54.734884Z",
     "iopub.status.busy": "2024-10-08T19:56:54.733239Z",
     "iopub.status.idle": "2024-10-08T19:56:54.757562Z",
     "shell.execute_reply": "2024-10-08T19:56:54.755817Z"
    },
    "papermill": {
     "duration": 0.034274,
     "end_time": "2024-10-08T19:56:54.759769",
     "exception": false,
     "start_time": "2024-10-08T19:56:54.725495",
     "status": "completed"
    },
    "tags": [],
    "vscode": {
     "languageId": "r"
    }
   },
   "outputs": [
    {
     "data": {
      "text/html": [
       "0"
      ],
      "text/latex": [
       "0"
      ],
      "text/markdown": [
       "0"
      ],
      "text/plain": [
       "[1] 0"
      ]
     },
     "metadata": {},
     "output_type": "display_data"
    }
   ],
   "source": [
    "sum(is.na(train))"
   ]
  },
  {
   "cell_type": "code",
   "execution_count": 5,
   "id": "c6c3c839",
   "metadata": {
    "execution": {
     "iopub.execute_input": "2024-10-08T19:56:54.775231Z",
     "iopub.status.busy": "2024-10-08T19:56:54.773753Z",
     "iopub.status.idle": "2024-10-08T19:56:54.788024Z",
     "shell.execute_reply": "2024-10-08T19:56:54.786407Z"
    },
    "papermill": {
     "duration": 0.024276,
     "end_time": "2024-10-08T19:56:54.790229",
     "exception": false,
     "start_time": "2024-10-08T19:56:54.765953",
     "status": "completed"
    },
    "tags": [],
    "vscode": {
     "languageId": "r"
    }
   },
   "outputs": [],
   "source": [
    "cats <- c(\"person_home_ownership\", \"loan_intent\", \"loan_grade\", \"cb_person_default_on_file\")\n",
    "drop <- c(\"id\", \"person_age\")"
   ]
  },
  {
   "cell_type": "code",
   "execution_count": 6,
   "id": "fd19c099",
   "metadata": {
    "execution": {
     "iopub.execute_input": "2024-10-08T19:56:54.805585Z",
     "iopub.status.busy": "2024-10-08T19:56:54.804087Z",
     "iopub.status.idle": "2024-10-08T19:56:55.321708Z",
     "shell.execute_reply": "2024-10-08T19:56:55.319953Z"
    },
    "papermill": {
     "duration": 0.527639,
     "end_time": "2024-10-08T19:56:55.324041",
     "exception": false,
     "start_time": "2024-10-08T19:56:54.796402",
     "status": "completed"
    },
    "tags": [],
    "vscode": {
     "languageId": "r"
    }
   },
   "outputs": [
    {
     "data": {
      "image/png": "[encoded data removed]",
      "text/plain": [
       "plot without title"
      ]
     },
     "metadata": {
      "image/png": {
       "height": 420,
       "width": 420
      }
     },
     "output_type": "display_data"
    }
   ],
   "source": [
    "ggplot(train, aes(loan_status)) +\n",
    "geom_bar(width = 0.5)"
   ]
  },
  {
   "cell_type": "markdown",
   "id": "c5641a20",
   "metadata": {
    "papermill": {
     "duration": 0.006414,
     "end_time": "2024-10-08T19:56:55.337098",
     "exception": false,
     "start_time": "2024-10-08T19:56:55.330684",
     "status": "completed"
    },
    "tags": []
   },
   "source": [
    "There are no missing values. The dataset contains 4 categorical features. The target variable *loan_status* is binary. We can observe severe imbalance here.\n",
    "\n",
    "Let's create an initial split with 85% for training purposes. The rest we'll use to estimate performance of the final model. Also we'll create 5 folds stratified by *loan_status*\n"
   ]
  },
  {
   "cell_type": "code",
   "execution_count": 15,
   "id": "d34b32f3",
   "metadata": {
    "execution": {
     "iopub.execute_input": "2024-10-08T19:56:55.353399Z",
     "iopub.status.busy": "2024-10-08T19:56:55.351739Z",
     "iopub.status.idle": "2024-10-08T19:56:55.805240Z",
     "shell.execute_reply": "2024-10-08T19:56:55.803206Z"
    },
    "papermill": {
     "duration": 0.464274,
     "end_time": "2024-10-08T19:56:55.807749",
     "exception": false,
     "start_time": "2024-10-08T19:56:55.343475",
     "status": "completed"
    },
    "tags": [],
    "vscode": {
     "languageId": "r"
    }
   },
   "outputs": [],
   "source": [
    "set.seed(1234)\n",
    "splits <- initial_split(train, prop = 0.85, strata = loan_status)\n",
    "tr <- training(splits)\n",
    "te <- testing(splits) \n",
    "folds <- vfold_cv(tr, v = 5, strata = loan_status)"
   ]
  },
  {
   "cell_type": "code",
   "execution_count": 17,
   "id": "3df1f09e",
   "metadata": {
    "vscode": {
     "languageId": "r"
    }
   },
   "outputs": [
    {
     "data": {
      "text/html": [
       "<table class=\"dataframe\">\n",
       "<caption>A tibble: 1 × 1</caption>\n",
       "<thead>\n",
       "\t<tr><th scope=col>sum(id)</th></tr>\n",
       "\t<tr><th scope=col>&lt;dbl&gt;</th></tr>\n",
       "</thead>\n",
       "<tbody>\n",
       "\t<tr><td>206421843</td></tr>\n",
       "</tbody>\n",
       "</table>\n"
      ],
      "text/latex": [
       "A tibble: 1 × 1\n",
       "\\begin{tabular}{l}\n",
       " sum(id)\\\\\n",
       " <dbl>\\\\\n",
       "\\hline\n",
       "\t 206421843\\\\\n",
       "\\end{tabular}\n"
      ],
      "text/markdown": [
       "\n",
       "A tibble: 1 × 1\n",
       "\n",
       "| sum(id) &lt;dbl&gt; |\n",
       "|---|\n",
       "| 206421843 |\n",
       "\n"
      ],
      "text/plain": [
       "  sum(id)  \n",
       "1 206421843"
      ]
     },
     "metadata": {},
     "output_type": "display_data"
    }
   ],
   "source": [
    "tr |> filter(loan_status=='1')|>summarise(sum(id))"
   ]
  },
  {
   "cell_type": "markdown",
   "id": "159ef5e7",
   "metadata": {
    "papermill": {
     "duration": 0.006478,
     "end_time": "2024-10-08T19:56:55.821515",
     "exception": false,
     "start_time": "2024-10-08T19:56:55.815037",
     "status": "completed"
    },
    "tags": []
   },
   "source": [
    "## Model workflow"
   ]
  },
  {
   "cell_type": "markdown",
   "id": "3bbf72df",
   "metadata": {
    "papermill": {
     "duration": 0.006334,
     "end_time": "2024-10-08T19:56:55.834287",
     "exception": false,
     "start_time": "2024-10-08T19:56:55.827953",
     "status": "completed"
    },
    "tags": []
   },
   "source": [
    "We specify a recipe for data transformation, which includes dropping of variables, normalizing, and converting strings to integers. Also we set an engine for a model."
   ]
  },
  {
   "cell_type": "code",
   "execution_count": 18,
   "id": "6353d769",
   "metadata": {
    "execution": {
     "iopub.execute_input": "2024-10-08T19:56:55.850912Z",
     "iopub.status.busy": "2024-10-08T19:56:55.849246Z",
     "iopub.status.idle": "2024-10-08T19:56:55.885549Z",
     "shell.execute_reply": "2024-10-08T19:56:55.883540Z"
    },
    "papermill": {
     "duration": 0.047597,
     "end_time": "2024-10-08T19:56:55.888299",
     "exception": false,
     "start_time": "2024-10-08T19:56:55.840702",
     "status": "completed"
    },
    "tags": [],
    "vscode": {
     "languageId": "r"
    }
   },
   "outputs": [],
   "source": [
    "rec <- recipe(loan_status ~ ., data = tr) |>\n",
    "  step_rm(all_of(drop)) |> \n",
    "  step_normalize(all_numeric_predictors()) |> \n",
    "  step_integer(all_nominal_predictors()) \n",
    "\n",
    "mod <- boost_tree(learn_rate = 0.05,\n",
    "                  trees = tune(),\n",
    "                  tree_depth = tune(), \n",
    "                  sample_size = tune()) |> \n",
    "  set_engine(engine = \"xgboost\", \n",
    "             lambda = 0.15,\n",
    "             nthread = parallel::detectCores()) |>\n",
    "  set_mode(mode = \"classification\")\n",
    "\n",
    "wflow <- workflow(rec, mod)"
   ]
  },
  {
   "cell_type": "code",
   "execution_count": 22,
   "id": "13537a07",
   "metadata": {
    "vscode": {
     "languageId": "r"
    }
   },
   "outputs": [
    {
     "data": {
      "text/html": [
       "<table class=\"dataframe\">\n",
       "<caption>A tibble: 1 × 2</caption>\n",
       "<thead>\n",
       "\t<tr><th scope=col>sum(loan_amnt)</th><th scope=col>sum(person_income)</th></tr>\n",
       "\t<tr><th scope=col>&lt;dbl&gt;</th><th scope=col>&lt;dbl&gt;</th></tr>\n",
       "</thead>\n",
       "<tbody>\n",
       "\t<tr><td>5.566596e-12</td><td>7.36973e-13</td></tr>\n",
       "</tbody>\n",
       "</table>\n"
      ],
      "text/latex": [
       "A tibble: 1 × 2\n",
       "\\begin{tabular}{ll}\n",
       " sum(loan\\_amnt) & sum(person\\_income)\\\\\n",
       " <dbl> & <dbl>\\\\\n",
       "\\hline\n",
       "\t 5.566596e-12 & 7.36973e-13\\\\\n",
       "\\end{tabular}\n"
      ],
      "text/markdown": [
       "\n",
       "A tibble: 1 × 2\n",
       "\n",
       "| sum(loan_amnt) &lt;dbl&gt; | sum(person_income) &lt;dbl&gt; |\n",
       "|---|---|\n",
       "| 5.566596e-12 | 7.36973e-13 |\n",
       "\n"
      ],
      "text/plain": [
       "  sum(loan_amnt) sum(person_income)\n",
       "1 5.566596e-12   7.36973e-13       "
      ]
     },
     "metadata": {},
     "output_type": "display_data"
    }
   ],
   "source": [
    "tmp|>summarize(sum(loan_amnt),sum(person_income))"
   ]
  },
  {
   "cell_type": "markdown",
   "id": "b85d50d3",
   "metadata": {
    "papermill": {
     "duration": 0.006586,
     "end_time": "2024-10-08T19:56:55.902574",
     "exception": false,
     "start_time": "2024-10-08T19:56:55.895988",
     "status": "completed"
    },
    "tags": []
   },
   "source": [
    "## Tuning model using resamples"
   ]
  },
  {
   "cell_type": "code",
   "execution_count": null,
   "id": "96dd79d7",
   "metadata": {
    "execution": {
     "iopub.execute_input": "2024-10-08T19:56:55.919076Z",
     "iopub.status.busy": "2024-10-08T19:56:55.917522Z",
     "iopub.status.idle": "2024-10-08T21:16:35.981667Z",
     "shell.execute_reply": "2024-10-08T21:16:35.979095Z"
    },
    "papermill": {
     "duration": 4780.090061,
     "end_time": "2024-10-08T21:16:35.999097",
     "exception": false,
     "start_time": "2024-10-08T19:56:55.909036",
     "status": "completed"
    },
    "tags": [],
    "vscode": {
     "languageId": "r"
    }
   },
   "outputs": [],
   "source": [
    "set.seed(1234)\n",
    "ctrl <- control_resamples(save_pred = TRUE, save_workflow = TRUE)\n",
    "grid <- grid_random(trees(range = c(1000, 2000)),\n",
    "                    tree_depth(range = c(4, 6)), \n",
    "                    sample_prop(range = c(0.6, 0.8)),\n",
    "                    size = 30)\n",
    "tune_res <- tune_grid(wflow, \n",
    "                      resamples = folds,\n",
    "                      grid = grid,\n",
    "                      control = ctrl,\n",
    "                      metrics = metric_set(roc_auc))\n",
    "\n",
    "tune_res %>% \n",
    "  collect_metrics() %>% \n",
    "  ggplot(aes(x = sample_size, y = mean, color = as_factor(tree_depth))) + \n",
    "  geom_point() + \n",
    "  labs(x = \"Sample_size\", y = \"AUC\", color = \"Tree depth\") +\n",
    "  theme_bw()"
   ]
  },
  {
   "cell_type": "markdown",
   "id": "661980c4",
   "metadata": {
    "papermill": {
     "duration": 0.011117,
     "end_time": "2024-10-08T21:16:36.021620",
     "exception": false,
     "start_time": "2024-10-08T21:16:36.010503",
     "status": "completed"
    },
    "tags": []
   },
   "source": [
    "## The best model. ROC curve"
   ]
  },
  {
   "cell_type": "code",
   "execution_count": null,
   "id": "02b000f0",
   "metadata": {
    "execution": {
     "iopub.execute_input": "2024-10-08T21:16:36.395874Z",
     "iopub.status.busy": "2024-10-08T21:16:36.394186Z",
     "iopub.status.idle": "2024-10-08T21:16:37.224598Z",
     "shell.execute_reply": "2024-10-08T21:16:37.222730Z"
    },
    "papermill": {
     "duration": 1.194174,
     "end_time": "2024-10-08T21:16:37.226954",
     "exception": false,
     "start_time": "2024-10-08T21:16:36.032780",
     "status": "completed"
    },
    "tags": [],
    "vscode": {
     "languageId": "r"
    }
   },
   "outputs": [
    {
     "data": {
      "text/html": [
       "<table class=\"dataframe\">\n",
       "<caption>A tibble: 5 × 9</caption>\n",
       "<thead>\n",
       "\t<tr><th scope=col>trees</th><th scope=col>tree_depth</th><th scope=col>sample_size</th><th scope=col>.metric</th><th scope=col>.estimator</th><th scope=col>mean</th><th scope=col>n</th><th scope=col>std_err</th><th scope=col>.config</th></tr>\n",
       "\t<tr><th scope=col>&lt;int&gt;</th><th scope=col>&lt;int&gt;</th><th scope=col>&lt;dbl&gt;</th><th scope=col>&lt;chr&gt;</th><th scope=col>&lt;chr&gt;</th><th scope=col>&lt;dbl&gt;</th><th scope=col>&lt;int&gt;</th><th scope=col>&lt;dbl&gt;</th><th scope=col>&lt;chr&gt;</th></tr>\n",
       "</thead>\n",
       "<tbody>\n",
       "\t<tr><td>1332</td><td>4</td><td>0.7999837</td><td>roc_auc</td><td>binary</td><td>0.9572484</td><td>5</td><td>0.001614907</td><td>Preprocessor1_Model12</td></tr>\n",
       "\t<tr><td>1210</td><td>4</td><td>0.7552889</td><td>roc_auc</td><td>binary</td><td>0.9571345</td><td>5</td><td>0.001668334</td><td>Preprocessor1_Model09</td></tr>\n",
       "\t<tr><td>1005</td><td>4</td><td>0.6561501</td><td>roc_auc</td><td>binary</td><td>0.9569485</td><td>5</td><td>0.001576281</td><td>Preprocessor1_Model02</td></tr>\n",
       "\t<tr><td>1461</td><td>4</td><td>0.7581465</td><td>roc_auc</td><td>binary</td><td>0.9569244</td><td>5</td><td>0.001462369</td><td>Preprocessor1_Model10</td></tr>\n",
       "\t<tr><td>1485</td><td>4</td><td>0.7875988</td><td>roc_auc</td><td>binary</td><td>0.9567294</td><td>5</td><td>0.001393353</td><td>Preprocessor1_Model11</td></tr>\n",
       "</tbody>\n",
       "</table>\n"
      ],
      "text/latex": [
       "A tibble: 5 × 9\n",
       "\\begin{tabular}{lllllllll}\n",
       " trees & tree\\_depth & sample\\_size & .metric & .estimator & mean & n & std\\_err & .config\\\\\n",
       " <int> & <int> & <dbl> & <chr> & <chr> & <dbl> & <int> & <dbl> & <chr>\\\\\n",
       "\\hline\n",
       "\t 1332 & 4 & 0.7999837 & roc\\_auc & binary & 0.9572484 & 5 & 0.001614907 & Preprocessor1\\_Model12\\\\\n",
       "\t 1210 & 4 & 0.7552889 & roc\\_auc & binary & 0.9571345 & 5 & 0.001668334 & Preprocessor1\\_Model09\\\\\n",
       "\t 1005 & 4 & 0.6561501 & roc\\_auc & binary & 0.9569485 & 5 & 0.001576281 & Preprocessor1\\_Model02\\\\\n",
       "\t 1461 & 4 & 0.7581465 & roc\\_auc & binary & 0.9569244 & 5 & 0.001462369 & Preprocessor1\\_Model10\\\\\n",
       "\t 1485 & 4 & 0.7875988 & roc\\_auc & binary & 0.9567294 & 5 & 0.001393353 & Preprocessor1\\_Model11\\\\\n",
       "\\end{tabular}\n"
      ],
      "text/markdown": [
       "\n",
       "A tibble: 5 × 9\n",
       "\n",
       "| trees &lt;int&gt; | tree_depth &lt;int&gt; | sample_size &lt;dbl&gt; | .metric &lt;chr&gt; | .estimator &lt;chr&gt; | mean &lt;dbl&gt; | n &lt;int&gt; | std_err &lt;dbl&gt; | .config &lt;chr&gt; |\n",
       "|---|---|---|---|---|---|---|---|---|\n",
       "| 1332 | 4 | 0.7999837 | roc_auc | binary | 0.9572484 | 5 | 0.001614907 | Preprocessor1_Model12 |\n",
       "| 1210 | 4 | 0.7552889 | roc_auc | binary | 0.9571345 | 5 | 0.001668334 | Preprocessor1_Model09 |\n",
       "| 1005 | 4 | 0.6561501 | roc_auc | binary | 0.9569485 | 5 | 0.001576281 | Preprocessor1_Model02 |\n",
       "| 1461 | 4 | 0.7581465 | roc_auc | binary | 0.9569244 | 5 | 0.001462369 | Preprocessor1_Model10 |\n",
       "| 1485 | 4 | 0.7875988 | roc_auc | binary | 0.9567294 | 5 | 0.001393353 | Preprocessor1_Model11 |\n",
       "\n"
      ],
      "text/plain": [
       "  trees tree_depth sample_size .metric .estimator mean      n std_err    \n",
       "1 1332  4          0.7999837   roc_auc binary     0.9572484 5 0.001614907\n",
       "2 1210  4          0.7552889   roc_auc binary     0.9571345 5 0.001668334\n",
       "3 1005  4          0.6561501   roc_auc binary     0.9569485 5 0.001576281\n",
       "4 1461  4          0.7581465   roc_auc binary     0.9569244 5 0.001462369\n",
       "5 1485  4          0.7875988   roc_auc binary     0.9567294 5 0.001393353\n",
       "  .config              \n",
       "1 Preprocessor1_Model12\n",
       "2 Preprocessor1_Model09\n",
       "3 Preprocessor1_Model02\n",
       "4 Preprocessor1_Model10\n",
       "5 Preprocessor1_Model11"
      ]
     },
     "metadata": {},
     "output_type": "display_data"
    },
    {
     "data": {
      "image/png": "[encoded data removed]"
     },
     "metadata": {
      "image/png": {
       "height": 420,
       "width": 420
      }
     },
     "output_type": "display_data"
    }
   ],
   "source": [
    "show_best(tune_res, metric=\"roc_auc\")\n",
    "best_par <- select_best(tune_res, metric=\"roc_auc\")\n",
    "\n",
    "collect_predictions(tune_res, parameters = best_par) |> \n",
    "  roc_curve(loan_status, .pred_0) |> \n",
    "  autoplot()"
   ]
  },
  {
   "cell_type": "markdown",
   "id": "2f25b8cb",
   "metadata": {
    "papermill": {
     "duration": 0.008449,
     "end_time": "2024-10-08T21:16:37.244079",
     "exception": false,
     "start_time": "2024-10-08T21:16:37.235630",
     "status": "completed"
    },
    "tags": []
   },
   "source": [
    "## Final model"
   ]
  },
  {
   "cell_type": "code",
   "execution_count": null,
   "id": "4e7efc3a",
   "metadata": {
    "execution": {
     "iopub.execute_input": "2024-10-08T21:16:37.265368Z",
     "iopub.status.busy": "2024-10-08T21:16:37.263821Z",
     "iopub.status.idle": "2024-10-08T21:17:03.876411Z",
     "shell.execute_reply": "2024-10-08T21:17:03.874576Z"
    },
    "papermill": {
     "duration": 26.626685,
     "end_time": "2024-10-08T21:17:03.879289",
     "exception": false,
     "start_time": "2024-10-08T21:16:37.252604",
     "status": "completed"
    },
    "tags": [],
    "vscode": {
     "languageId": "r"
    }
   },
   "outputs": [
    {
     "data": {
      "text/html": [
       "<table class=\"dataframe\">\n",
       "<caption>A tibble: 3 × 4</caption>\n",
       "<thead>\n",
       "\t<tr><th scope=col>.metric</th><th scope=col>.estimator</th><th scope=col>.estimate</th><th scope=col>.config</th></tr>\n",
       "\t<tr><th scope=col>&lt;chr&gt;</th><th scope=col>&lt;chr&gt;</th><th scope=col>&lt;dbl&gt;</th><th scope=col>&lt;chr&gt;</th></tr>\n",
       "</thead>\n",
       "<tbody>\n",
       "\t<tr><td>accuracy   </td><td>binary</td><td>0.95362582</td><td>Preprocessor1_Model1</td></tr>\n",
       "\t<tr><td>roc_auc    </td><td>binary</td><td>0.96383566</td><td>Preprocessor1_Model1</td></tr>\n",
       "\t<tr><td>brier_class</td><td>binary</td><td>0.03728938</td><td>Preprocessor1_Model1</td></tr>\n",
       "</tbody>\n",
       "</table>\n"
      ],
      "text/latex": [
       "A tibble: 3 × 4\n",
       "\\begin{tabular}{llll}\n",
       " .metric & .estimator & .estimate & .config\\\\\n",
       " <chr> & <chr> & <dbl> & <chr>\\\\\n",
       "\\hline\n",
       "\t accuracy    & binary & 0.95362582 & Preprocessor1\\_Model1\\\\\n",
       "\t roc\\_auc     & binary & 0.96383566 & Preprocessor1\\_Model1\\\\\n",
       "\t brier\\_class & binary & 0.03728938 & Preprocessor1\\_Model1\\\\\n",
       "\\end{tabular}\n"
      ],
      "text/markdown": [
       "\n",
       "A tibble: 3 × 4\n",
       "\n",
       "| .metric &lt;chr&gt; | .estimator &lt;chr&gt; | .estimate &lt;dbl&gt; | .config &lt;chr&gt; |\n",
       "|---|---|---|---|\n",
       "| accuracy    | binary | 0.95362582 | Preprocessor1_Model1 |\n",
       "| roc_auc     | binary | 0.96383566 | Preprocessor1_Model1 |\n",
       "| brier_class | binary | 0.03728938 | Preprocessor1_Model1 |\n",
       "\n"
      ],
      "text/plain": [
       "  .metric     .estimator .estimate  .config             \n",
       "1 accuracy    binary     0.95362582 Preprocessor1_Model1\n",
       "2 roc_auc     binary     0.96383566 Preprocessor1_Model1\n",
       "3 brier_class binary     0.03728938 Preprocessor1_Model1"
      ]
     },
     "metadata": {},
     "output_type": "display_data"
    },
    {
     "data": {
      "image/png": "[encoded data removed]"
     },
     "metadata": {
      "image/png": {
       "height": 420,
       "width": 420
      }
     },
     "output_type": "display_data"
    }
   ],
   "source": [
    "final_wflow <- finalize_workflow(wflow, best_par)\n",
    "final_fit <- last_fit(final_wflow, splits)\n",
    "collect_metrics(final_fit)\n",
    "\n",
    "final_mod <- extract_workflow(final_fit)\n",
    "\n",
    "final_mod |> \n",
    "  extract_fit_parsnip() |> \n",
    "  vip() + theme_bw()"
   ]
  },
  {
   "cell_type": "markdown",
   "id": "c966891b",
   "metadata": {
    "papermill": {
     "duration": 0.009286,
     "end_time": "2024-10-08T21:17:03.898425",
     "exception": false,
     "start_time": "2024-10-08T21:17:03.889139",
     "status": "completed"
    },
    "tags": []
   },
   "source": [
    "I have already removed the *person_age* feature. This improved the score a bit."
   ]
  },
  {
   "cell_type": "markdown",
   "id": "fc991590",
   "metadata": {
    "papermill": {
     "duration": 0.009413,
     "end_time": "2024-10-08T21:17:03.917231",
     "exception": false,
     "start_time": "2024-10-08T21:17:03.907818",
     "status": "completed"
    },
    "tags": []
   },
   "source": [
    "## Predictions"
   ]
  },
  {
   "cell_type": "code",
   "execution_count": null,
   "id": "bd630ca0",
   "metadata": {
    "_kg_hide-input": false,
    "_kg_hide-output": false,
    "execution": {
     "iopub.execute_input": "2024-10-08T21:17:03.939147Z",
     "iopub.status.busy": "2024-10-08T21:17:03.937657Z",
     "iopub.status.idle": "2024-10-08T21:17:04.429463Z",
     "shell.execute_reply": "2024-10-08T21:17:04.426701Z"
    },
    "papermill": {
     "duration": 0.506346,
     "end_time": "2024-10-08T21:17:04.432868",
     "exception": false,
     "start_time": "2024-10-08T21:17:03.926522",
     "status": "completed"
    },
    "tags": [],
    "vscode": {
     "languageId": "r"
    }
   },
   "outputs": [
    {
     "name": "stderr",
     "output_type": "stream",
     "text": [
      "\u001b[1mRows: \u001b[22m\u001b[34m39098\u001b[39m \u001b[1mColumns: \u001b[22m\u001b[34m2\u001b[39m\n"
     ]
    },
    {
     "name": "stderr",
     "output_type": "stream",
     "text": [
      "\u001b[36m──\u001b[39m \u001b[1mColumn specification\u001b[22m \u001b[36m────────────────────────────────────────────────────────\u001b[39m\n",
      "\u001b[1mDelimiter:\u001b[22m \",\"\n",
      "\u001b[32mdbl\u001b[39m (2): id, loan_status\n"
     ]
    },
    {
     "name": "stderr",
     "output_type": "stream",
     "text": [
      "\n",
      "\u001b[36mℹ\u001b[39m Use `spec()` to retrieve the full column specification for this data.\n",
      "\u001b[36mℹ\u001b[39m Specify the column types or set `show_col_types = FALSE` to quiet this message.\n"
     ]
    }
   ],
   "source": [
    "pred <- predict(final_mod, test, type = \"prob\")\n",
    "read_csv(\"/kaggle/input/playground-series-s4e10/sample_submission.csv\")|> \n",
    "  mutate(loan_status = as.numeric(pred$.pred_1)) |> \n",
    "  write_csv(\"tidy_loaner.csv\")"
   ]
  },
  {
   "cell_type": "code",
   "execution_count": null,
   "id": "2f2f991c",
   "metadata": {
    "vscode": {
     "languageId": "r"
    }
   },
   "outputs": [],
   "source": []
  }
 ],
 "metadata": {
  "kaggle": {
   "accelerator": "none",
   "dataSources": [
    {
     "databundleVersionId": 9709193,
     "sourceId": 84894,
     "sourceType": "competition"
    }
   ],
   "dockerImageVersionId": 30749,
   "isGpuEnabled": false,
   "isInternetEnabled": true,
   "language": "r",
   "sourceType": "notebook"
  },
  "kernelspec": {
   "display_name": "R",
   "language": "R",
   "name": "ir"
  },
  "language_info": {
   "codemirror_mode": "r",
   "file_extension": ".r",
   "mimetype": "text/x-r-source",
   "name": "R",
   "pygments_lexer": "r",
   "version": "4.4.2"
  },
  "papermill": {
   "default_parameters": {},
   "duration": 4817.234045,
   "end_time": "2024-10-08T21:17:04.566055",
   "environment_variables": {},
   "exception": null,
   "input_path": "__notebook__.ipynb",
   "output_path": "__notebook__.ipynb",
   "parameters": {},
   "start_time": "2024-10-08T19:56:47.332010",
   "version": "2.6.0"
  }
 },
 "nbformat": 4,
 "nbformat_minor": 5
}
